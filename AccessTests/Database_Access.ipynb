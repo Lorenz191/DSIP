{
 "cells": [
  {
   "cell_type": "code",
   "id": "initial_id",
   "metadata": {
    "collapsed": true,
    "ExecuteTime": {
     "end_time": "2024-10-22T14:23:36.167012Z",
     "start_time": "2024-10-22T14:23:36.089270Z"
    }
   },
   "source": "import mysql.connector",
   "outputs": [],
   "execution_count": 1
  },
  {
   "metadata": {
    "ExecuteTime": {
     "end_time": "2024-10-22T14:26:58.522388Z",
     "start_time": "2024-10-22T14:26:58.414412Z"
    }
   },
   "cell_type": "code",
   "source": [
    "import mysql.connector\n",
    "\n",
    "connection = mysql.connector.connect(\n",
    "    host=\"e150497-phpmyadmin.services.easyname.eu\",  \n",
    "    user=\"u234926db1\", \n",
    "    password=\".avqj1qasaf8\", \n",
    "    database=\"u234926db1\"  \n",
    ")\n",
    "\n",
    "cursor = connection.cursor()\n",
    "\n",
    "query = \"SELECT * FROM Test;\"  \n",
    "\n",
    "cursor.execute(query)\n",
    "\n",
    "results = cursor.fetchall()\n",
    "\n",
    "for row in results:\n",
    "    print(row)\n",
    "\n",
    "cursor.close()\n",
    "connection.close()\n"
   ],
   "id": "2f42e5b7d6bbf87a",
   "outputs": [
    {
     "name": "stdout",
     "output_type": "stream",
     "text": [
      "('Lorenz Schmidt',)\n"
     ]
    }
   ],
   "execution_count": 2
  },
  {
   "metadata": {},
   "cell_type": "code",
   "outputs": [],
   "execution_count": null,
   "source": "",
   "id": "714370478e671cc7"
  }
 ],
 "metadata": {
  "kernelspec": {
   "display_name": "Python 3",
   "language": "python",
   "name": "python3"
  },
  "language_info": {
   "codemirror_mode": {
    "name": "ipython",
    "version": 2
   },
   "file_extension": ".py",
   "mimetype": "text/x-python",
   "name": "python",
   "nbconvert_exporter": "python",
   "pygments_lexer": "ipython2",
   "version": "2.7.6"
  }
 },
 "nbformat": 4,
 "nbformat_minor": 5
}
